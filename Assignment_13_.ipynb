{
  "nbformat": 4,
  "nbformat_minor": 0,
  "metadata": {
    "colab": {
      "provenance": [],
      "include_colab_link": true
    },
    "kernelspec": {
      "name": "python3",
      "display_name": "Python 3"
    },
    "language_info": {
      "name": "python"
    }
  },
  "cells": [
    {
      "cell_type": "markdown",
      "metadata": {
        "id": "view-in-github",
        "colab_type": "text"
      },
      "source": [
        "<a href=\"https://colab.research.google.com/github/Praveen916-R/Task_7_Guvi/blob/main/Assignment_13_.ipynb\" target=\"_parent\"><img src=\"https://colab.research.google.com/assets/colab-badge.svg\" alt=\"Open In Colab\"/></a>"
      ]
    },
    {
      "cell_type": "code",
      "source": [
        "#Social_Networks_Ads.csv"
      ],
      "metadata": {
        "id": "HeXYlZ7RZrug"
      },
      "execution_count": 1,
      "outputs": []
    },
    {
      "cell_type": "markdown",
      "source": [
        "Importing the libraries"
      ],
      "metadata": {
        "id": "gyw8UtQuZsKU"
      }
    },
    {
      "cell_type": "code",
      "execution_count": 2,
      "metadata": {
        "id": "aXXTkdLuIpEH"
      },
      "outputs": [],
      "source": [
        "import pandas as pd\n",
        "import numpy as np\n",
        "import matplotlib.pyplot as plt\n",
        "import seaborn as sns\n"
      ]
    },
    {
      "cell_type": "markdown",
      "source": [
        "Importing the dataset"
      ],
      "metadata": {
        "id": "Pz1knzKCZuib"
      }
    },
    {
      "cell_type": "code",
      "source": [
        "data = pd.read_csv('Social_Network_Ads.csv')\n",
        "data.head()"
      ],
      "metadata": {
        "colab": {
          "base_uri": "https://localhost:8080/",
          "height": 206
        },
        "id": "XlcmkCboIxW1",
        "outputId": "6bd3e27a-7754-48ad-fee1-5cd12aa15074"
      },
      "execution_count": 3,
      "outputs": [
        {
          "output_type": "execute_result",
          "data": {
            "text/plain": [
              "    User ID  Gender  Age  EstimatedSalary  Purchased\n",
              "0  15624510    Male   19            19000          0\n",
              "1  15810944    Male   35            20000          0\n",
              "2  15668575  Female   26            43000          0\n",
              "3  15603246  Female   27            57000          0\n",
              "4  15804002    Male   19            76000          0"
            ],
            "text/html": [
              "\n",
              "  <div id=\"df-6fee4006-2e7d-4ece-928f-6447a842c3ca\">\n",
              "    <div class=\"colab-df-container\">\n",
              "      <div>\n",
              "<style scoped>\n",
              "    .dataframe tbody tr th:only-of-type {\n",
              "        vertical-align: middle;\n",
              "    }\n",
              "\n",
              "    .dataframe tbody tr th {\n",
              "        vertical-align: top;\n",
              "    }\n",
              "\n",
              "    .dataframe thead th {\n",
              "        text-align: right;\n",
              "    }\n",
              "</style>\n",
              "<table border=\"1\" class=\"dataframe\">\n",
              "  <thead>\n",
              "    <tr style=\"text-align: right;\">\n",
              "      <th></th>\n",
              "      <th>User ID</th>\n",
              "      <th>Gender</th>\n",
              "      <th>Age</th>\n",
              "      <th>EstimatedSalary</th>\n",
              "      <th>Purchased</th>\n",
              "    </tr>\n",
              "  </thead>\n",
              "  <tbody>\n",
              "    <tr>\n",
              "      <th>0</th>\n",
              "      <td>15624510</td>\n",
              "      <td>Male</td>\n",
              "      <td>19</td>\n",
              "      <td>19000</td>\n",
              "      <td>0</td>\n",
              "    </tr>\n",
              "    <tr>\n",
              "      <th>1</th>\n",
              "      <td>15810944</td>\n",
              "      <td>Male</td>\n",
              "      <td>35</td>\n",
              "      <td>20000</td>\n",
              "      <td>0</td>\n",
              "    </tr>\n",
              "    <tr>\n",
              "      <th>2</th>\n",
              "      <td>15668575</td>\n",
              "      <td>Female</td>\n",
              "      <td>26</td>\n",
              "      <td>43000</td>\n",
              "      <td>0</td>\n",
              "    </tr>\n",
              "    <tr>\n",
              "      <th>3</th>\n",
              "      <td>15603246</td>\n",
              "      <td>Female</td>\n",
              "      <td>27</td>\n",
              "      <td>57000</td>\n",
              "      <td>0</td>\n",
              "    </tr>\n",
              "    <tr>\n",
              "      <th>4</th>\n",
              "      <td>15804002</td>\n",
              "      <td>Male</td>\n",
              "      <td>19</td>\n",
              "      <td>76000</td>\n",
              "      <td>0</td>\n",
              "    </tr>\n",
              "  </tbody>\n",
              "</table>\n",
              "</div>\n",
              "      <button class=\"colab-df-convert\" onclick=\"convertToInteractive('df-6fee4006-2e7d-4ece-928f-6447a842c3ca')\"\n",
              "              title=\"Convert this dataframe to an interactive table.\"\n",
              "              style=\"display:none;\">\n",
              "        \n",
              "  <svg xmlns=\"http://www.w3.org/2000/svg\" height=\"24px\"viewBox=\"0 0 24 24\"\n",
              "       width=\"24px\">\n",
              "    <path d=\"M0 0h24v24H0V0z\" fill=\"none\"/>\n",
              "    <path d=\"M18.56 5.44l.94 2.06.94-2.06 2.06-.94-2.06-.94-.94-2.06-.94 2.06-2.06.94zm-11 1L8.5 8.5l.94-2.06 2.06-.94-2.06-.94L8.5 2.5l-.94 2.06-2.06.94zm10 10l.94 2.06.94-2.06 2.06-.94-2.06-.94-.94-2.06-.94 2.06-2.06.94z\"/><path d=\"M17.41 7.96l-1.37-1.37c-.4-.4-.92-.59-1.43-.59-.52 0-1.04.2-1.43.59L10.3 9.45l-7.72 7.72c-.78.78-.78 2.05 0 2.83L4 21.41c.39.39.9.59 1.41.59.51 0 1.02-.2 1.41-.59l7.78-7.78 2.81-2.81c.8-.78.8-2.07 0-2.86zM5.41 20L4 18.59l7.72-7.72 1.47 1.35L5.41 20z\"/>\n",
              "  </svg>\n",
              "      </button>\n",
              "      \n",
              "  <style>\n",
              "    .colab-df-container {\n",
              "      display:flex;\n",
              "      flex-wrap:wrap;\n",
              "      gap: 12px;\n",
              "    }\n",
              "\n",
              "    .colab-df-convert {\n",
              "      background-color: #E8F0FE;\n",
              "      border: none;\n",
              "      border-radius: 50%;\n",
              "      cursor: pointer;\n",
              "      display: none;\n",
              "      fill: #1967D2;\n",
              "      height: 32px;\n",
              "      padding: 0 0 0 0;\n",
              "      width: 32px;\n",
              "    }\n",
              "\n",
              "    .colab-df-convert:hover {\n",
              "      background-color: #E2EBFA;\n",
              "      box-shadow: 0px 1px 2px rgba(60, 64, 67, 0.3), 0px 1px 3px 1px rgba(60, 64, 67, 0.15);\n",
              "      fill: #174EA6;\n",
              "    }\n",
              "\n",
              "    [theme=dark] .colab-df-convert {\n",
              "      background-color: #3B4455;\n",
              "      fill: #D2E3FC;\n",
              "    }\n",
              "\n",
              "    [theme=dark] .colab-df-convert:hover {\n",
              "      background-color: #434B5C;\n",
              "      box-shadow: 0px 1px 3px 1px rgba(0, 0, 0, 0.15);\n",
              "      filter: drop-shadow(0px 1px 2px rgba(0, 0, 0, 0.3));\n",
              "      fill: #FFFFFF;\n",
              "    }\n",
              "  </style>\n",
              "\n",
              "      <script>\n",
              "        const buttonEl =\n",
              "          document.querySelector('#df-6fee4006-2e7d-4ece-928f-6447a842c3ca button.colab-df-convert');\n",
              "        buttonEl.style.display =\n",
              "          google.colab.kernel.accessAllowed ? 'block' : 'none';\n",
              "\n",
              "        async function convertToInteractive(key) {\n",
              "          const element = document.querySelector('#df-6fee4006-2e7d-4ece-928f-6447a842c3ca');\n",
              "          const dataTable =\n",
              "            await google.colab.kernel.invokeFunction('convertToInteractive',\n",
              "                                                     [key], {});\n",
              "          if (!dataTable) return;\n",
              "\n",
              "          const docLinkHtml = 'Like what you see? Visit the ' +\n",
              "            '<a target=\"_blank\" href=https://colab.research.google.com/notebooks/data_table.ipynb>data table notebook</a>'\n",
              "            + ' to learn more about interactive tables.';\n",
              "          element.innerHTML = '';\n",
              "          dataTable['output_type'] = 'display_data';\n",
              "          await google.colab.output.renderOutput(dataTable, element);\n",
              "          const docLink = document.createElement('div');\n",
              "          docLink.innerHTML = docLinkHtml;\n",
              "          element.appendChild(docLink);\n",
              "        }\n",
              "      </script>\n",
              "    </div>\n",
              "  </div>\n",
              "  "
            ]
          },
          "metadata": {},
          "execution_count": 3
        }
      ]
    },
    {
      "cell_type": "markdown",
      "source": [
        "Splitting the dataset into the Training set and Test set"
      ],
      "metadata": {
        "id": "udIG1BJfZyEE"
      }
    },
    {
      "cell_type": "code",
      "source": [
        "X=data.iloc[:,2:4].values\n",
        "y=data.iloc[:,-1].values"
      ],
      "metadata": {
        "id": "pgOonc08KSFr"
      },
      "execution_count": 4,
      "outputs": []
    },
    {
      "cell_type": "code",
      "source": [
        "X.shape"
      ],
      "metadata": {
        "colab": {
          "base_uri": "https://localhost:8080/"
        },
        "id": "bMzIHCcxKVd7",
        "outputId": "44afe6c8-bbc7-491a-a0df-8d44a7ae49ca"
      },
      "execution_count": 5,
      "outputs": [
        {
          "output_type": "execute_result",
          "data": {
            "text/plain": [
              "(400, 2)"
            ]
          },
          "metadata": {},
          "execution_count": 5
        }
      ]
    },
    {
      "cell_type": "code",
      "source": [
        "y.shape"
      ],
      "metadata": {
        "colab": {
          "base_uri": "https://localhost:8080/"
        },
        "id": "QpaUvnk2KW3T",
        "outputId": "06c291e2-f527-439a-bdbe-13047674b325"
      },
      "execution_count": 6,
      "outputs": [
        {
          "output_type": "execute_result",
          "data": {
            "text/plain": [
              "(400,)"
            ]
          },
          "metadata": {},
          "execution_count": 6
        }
      ]
    },
    {
      "cell_type": "code",
      "source": [
        "from sklearn.model_selection import train_test_split\n",
        "X_train,X_test,y_train,y_test=train_test_split(X,y,test_size=0.2)"
      ],
      "metadata": {
        "id": "dMr-BGxUKZtz"
      },
      "execution_count": 7,
      "outputs": []
    },
    {
      "cell_type": "markdown",
      "source": [
        "Feature Scaling"
      ],
      "metadata": {
        "id": "X4Bj4iyfZ1t8"
      }
    },
    {
      "cell_type": "code",
      "source": [
        "from sklearn.preprocessing import StandardScaler\n",
        "scaler = StandardScaler()"
      ],
      "metadata": {
        "id": "IXkELtp2he28"
      },
      "execution_count": 8,
      "outputs": []
    },
    {
      "cell_type": "markdown",
      "source": [
        "Fitting K-NN to the Training set\n",
        "\n"
      ],
      "metadata": {
        "id": "3-x1HKt1hkmG"
      }
    },
    {
      "cell_type": "code",
      "source": [
        "X_train = scaler.fit_transform(X_train)\n",
        "X_train"
      ],
      "metadata": {
        "colab": {
          "base_uri": "https://localhost:8080/"
        },
        "id": "0nUNnygkKdJb",
        "outputId": "0bcbf07b-00e6-49c0-dcb7-dc0c2f2e6496"
      },
      "execution_count": 9,
      "outputs": [
        {
          "output_type": "execute_result",
          "data": {
            "text/plain": [
              "array([[ 0.78886337, -1.1120344 ],\n",
              "       [-0.47380366, -1.22854452],\n",
              "       [-0.57093189,  0.8686375 ],\n",
              "       [-1.05657306, -0.35471868],\n",
              "       [ 1.95440216,  0.89776503],\n",
              "       [-1.15370129,  0.31521447],\n",
              "       [ 0.0118375 , -0.44210126],\n",
              "       [ 0.20609397, -0.3838462 ],\n",
              "       [-0.66806013,  0.16957683],\n",
              "       [-1.93072715, -0.52948384],\n",
              "       [-1.15370129,  0.28608694],\n",
              "       [-0.76518836,  0.28608694],\n",
              "       [ 0.5946069 , -0.90814171],\n",
              "       [ 1.08024806,  2.06286614],\n",
              "       [ 1.37163276,  1.97548356],\n",
              "       [-1.93072715,  0.46085211],\n",
              "       [ 0.40035043, -0.00518834],\n",
              "       [-0.18241896, -0.5877389 ],\n",
              "       [ 0.8859916 , -1.46156474],\n",
              "       [ 0.3032222 , -1.17028946],\n",
              "       [-0.37667543,  0.05306672],\n",
              "       [ 1.08024806,  0.51910716],\n",
              "       [-1.05657306,  0.40259705],\n",
              "       [-0.76518836,  1.88810098],\n",
              "       [-1.25082952,  0.57736222],\n",
              "       [-1.34795776, -0.35471868],\n",
              "       [ 1.95440216,  2.15024873],\n",
              "       [ 0.40035043,  0.25695941],\n",
              "       [ 0.98311983,  1.42206053],\n",
              "       [-0.37667543,  1.21816783],\n",
              "       [-0.18241896,  2.15024873],\n",
              "       [ 1.08024806, -1.22854452],\n",
              "       [-1.25082952, -1.40330968],\n",
              "       [-1.15370129, -1.60720238],\n",
              "       [-0.47380366,  2.29588637],\n",
              "       [ 0.3032222 ,  0.05306672],\n",
              "       [ 0.78886337, -0.84988665],\n",
              "       [-0.18241896, -0.52948384],\n",
              "       [-1.15370129,  1.392933  ],\n",
              "       [ 0.20609397, -0.3838462 ],\n",
              "       [ 0.78886337,  0.75212739],\n",
              "       [ 0.78886337,  0.25695941],\n",
              "       [ 1.85727393,  0.11132177],\n",
              "       [-0.86231659, -0.7916316 ],\n",
              "       [ 0.3032222 ,  0.02393919],\n",
              "       [ 2.05153039, -0.82075912],\n",
              "       [-0.27954719, -1.25767204],\n",
              "       [-0.27954719,  0.60648975],\n",
              "       [ 0.20609397,  0.22783188],\n",
              "       [-0.37667543, -0.7916316 ],\n",
              "       [ 0.69173513, -1.28679957],\n",
              "       [ 1.468761  ,  2.1211212 ],\n",
              "       [-0.66806013, -1.51981979],\n",
              "       [-0.08529073,  0.28608694],\n",
              "       [ 1.37163276, -1.43243721],\n",
              "       [-1.15370129, -0.52948384],\n",
              "       [ 0.10896574,  1.85897345],\n",
              "       [-0.57093189, -1.51981979],\n",
              "       [ 0.98311983,  1.85897345],\n",
              "       [-1.83359892, -0.00518834],\n",
              "       [-1.15370129, -1.1120344 ],\n",
              "       [-1.73647069,  0.34434199],\n",
              "       [ 0.78886337, -0.32559115],\n",
              "       [-0.27954719, -0.35471868],\n",
              "       [-1.05657306,  0.51910716],\n",
              "       [ 0.40035043, -0.47122879],\n",
              "       [-0.08529073,  0.25695941],\n",
              "       [-0.08529073,  0.28608694],\n",
              "       [ 1.76014569,  0.98514761],\n",
              "       [-0.18241896, -1.08290688],\n",
              "       [ 0.3032222 , -0.52948384],\n",
              "       [-0.76518836,  1.33467795],\n",
              "       [-0.27954719,  0.05306672],\n",
              "       [-1.83359892, -1.43243721],\n",
              "       [ 0.20609397, -0.15082598],\n",
              "       [ 1.08024806,  0.46085211],\n",
              "       [ 0.10896574,  0.19870435],\n",
              "       [-0.08529073,  1.94635603],\n",
              "       [-0.27954719,  0.78125491],\n",
              "       [-0.18241896, -0.29646362],\n",
              "       [ 1.56588923,  1.10165772],\n",
              "       [-0.95944482, -0.44210126],\n",
              "       [ 1.56588923, -0.00518834],\n",
              "       [-0.08529073, -0.52948384],\n",
              "       [ 0.0118375 ,  0.02393919],\n",
              "       [-0.08529073,  0.02393919],\n",
              "       [-0.76518836,  1.07253019],\n",
              "       [-0.08529073,  0.22783188],\n",
              "       [ 0.98311983,  0.11132177],\n",
              "       [-0.76518836, -0.61686643],\n",
              "       [-1.15370129, -1.54894732],\n",
              "       [ 0.0118375 , -0.26733609],\n",
              "       [ 1.27450453,  1.85897345],\n",
              "       [-1.15370129,  0.05306672],\n",
              "       [ 1.85727393, -0.29646362],\n",
              "       [ 0.0118375 , -0.5877389 ],\n",
              "       [-0.76518836,  0.25695941],\n",
              "       [ 0.8859916 , -1.17028946],\n",
              "       [ 0.20609397,  0.05306672],\n",
              "       [-0.95944482, -0.32559115],\n",
              "       [ 1.27450453, -1.37418216],\n",
              "       [-0.47380366, -0.03431587],\n",
              "       [-1.83359892, -1.3159271 ],\n",
              "       [-1.05657306, -0.3838462 ],\n",
              "       [-0.95944482,  1.53857064],\n",
              "       [-0.27954719,  0.25695941],\n",
              "       [-1.73647069,  0.46085211],\n",
              "       [-0.47380366,  1.24729536],\n",
              "       [-0.27954719, -0.29646362],\n",
              "       [-0.27954719, -0.32559115],\n",
              "       [ 1.37163276,  0.57736222],\n",
              "       [ 0.98311983, -1.08290688],\n",
              "       [ 0.98311983, -1.08290688],\n",
              "       [ 1.1773763 , -1.46156474],\n",
              "       [-0.18241896,  1.5968257 ],\n",
              "       [ 0.78886337,  1.36380547],\n",
              "       [-0.95944482,  0.40259705],\n",
              "       [ 0.0118375 , -0.32559115],\n",
              "       [ 0.10896574,  1.04340267],\n",
              "       [ 0.20609397,  0.1404493 ],\n",
              "       [-0.27954719,  2.23763131],\n",
              "       [ 0.98311983, -1.17028946],\n",
              "       [-0.57093189,  1.45118806],\n",
              "       [-0.27954719,  0.1404493 ],\n",
              "       [ 0.10896574,  0.75212739],\n",
              "       [ 0.40035043,  0.28608694],\n",
              "       [-1.44508599,  0.34434199],\n",
              "       [-0.27954719, -0.50035632],\n",
              "       [ 0.40035043,  0.98514761],\n",
              "       [-0.47380366, -1.14116193],\n",
              "       [ 0.98311983, -1.19941699],\n",
              "       [-1.34795776, -1.25767204],\n",
              "       [ 0.0118375 , -0.55861137],\n",
              "       [-0.66806013,  0.54823469],\n",
              "       [ 0.69173513, -1.40330968],\n",
              "       [-0.66806013,  0.11132177],\n",
              "       [-0.08529073, -1.08290688],\n",
              "       [ 1.85727393, -1.28679957],\n",
              "       [ 1.08024806, -0.99552429],\n",
              "       [ 2.14865862, -0.70424901],\n",
              "       [ 0.3032222 , -0.29646362],\n",
              "       [-0.27954719,  0.05306672],\n",
              "       [-0.86231659,  0.1404493 ],\n",
              "       [-0.27954719,  0.19870435],\n",
              "       [ 2.05153039,  0.37346952],\n",
              "       [-0.27954719,  0.51910716],\n",
              "       [-0.47380366, -0.29646362],\n",
              "       [-0.76518836, -1.54894732],\n",
              "       [ 1.468761  ,  0.05306672],\n",
              "       [ 1.08024806, -1.22854452],\n",
              "       [ 2.14865862,  1.10165772],\n",
              "       [ 0.3032222 , -0.52948384],\n",
              "       [-0.08529073, -0.44210126],\n",
              "       [ 1.56588923,  0.98514761],\n",
              "       [-1.15370129, -0.7916316 ],\n",
              "       [ 0.3032222 ,  0.05306672],\n",
              "       [-1.73647069, -1.37418216],\n",
              "       [ 1.66301746,  1.74246334],\n",
              "       [-0.57093189, -1.51981979],\n",
              "       [-1.05657306, -1.14116193],\n",
              "       [-1.73647069, -0.99552429],\n",
              "       [ 1.1773763 ,  0.51910716],\n",
              "       [ 2.14865862, -0.82075912],\n",
              "       [-0.86231659,  0.37346952],\n",
              "       [ 1.95440216,  0.72299986],\n",
              "       [-0.27954719, -0.5877389 ],\n",
              "       [-0.27954719, -1.46156474],\n",
              "       [-1.93072715,  0.34434199],\n",
              "       [ 0.78886337,  0.11132177],\n",
              "       [ 0.98311983,  1.77159086],\n",
              "       [ 0.3032222 ,  0.48997963],\n",
              "       [ 0.20609397,  0.02393919],\n",
              "       [ 1.08024806,  0.11132177],\n",
              "       [-1.05657306,  1.94635603],\n",
              "       [-1.44508599, -0.20908104],\n",
              "       [-0.27954719, -1.3159271 ],\n",
              "       [ 0.40035043, -0.17995351],\n",
              "       [ 0.78886337, -1.40330968],\n",
              "       [-0.27954719, -0.15082598],\n",
              "       [-0.95944482,  0.48997963],\n",
              "       [ 0.20609397, -0.67512148],\n",
              "       [ 1.76014569,  1.82984592],\n",
              "       [-0.86231659, -0.26733609],\n",
              "       [-1.44508599, -0.64599396],\n",
              "       [-1.54221422, -0.44210126],\n",
              "       [-1.15370129,  0.40259705],\n",
              "       [-0.66806013, -1.60720238],\n",
              "       [ 2.14865862, -0.82075912],\n",
              "       [-0.27954719, -0.67512148],\n",
              "       [ 0.10896574,  0.25695941],\n",
              "       [ 0.0118375 , -0.26733609],\n",
              "       [-0.57093189,  1.88810098],\n",
              "       [-1.83359892, -1.49069227],\n",
              "       [ 0.8859916 , -0.7916316 ],\n",
              "       [-0.27954719, -1.37418216],\n",
              "       [-1.44508599, -1.46156474],\n",
              "       [-0.27954719, -0.93726924],\n",
              "       [ 0.3032222 ,  0.05306672],\n",
              "       [ 0.69173513, -1.40330968],\n",
              "       [-1.54221422, -1.25767204],\n",
              "       [ 0.10896574, -0.82075912],\n",
              "       [ 0.40035043, -0.47122879],\n",
              "       [ 2.14865862,  0.37346952],\n",
              "       [-1.05657306, -0.47122879],\n",
              "       [ 0.10896574,  0.08219424],\n",
              "       [-0.86231659,  0.28608694],\n",
              "       [-0.66806013, -0.12169845],\n",
              "       [-1.05657306,  0.75212739],\n",
              "       [-1.05657306, -1.54894732],\n",
              "       [ 0.20609397,  0.1404493 ],\n",
              "       [ 0.40035043,  0.1404493 ],\n",
              "       [-0.86231659, -1.22854452],\n",
              "       [ 0.98311983,  1.97548356],\n",
              "       [ 2.05153039,  2.1211212 ],\n",
              "       [ 0.40035043, -0.50035632],\n",
              "       [-1.83359892,  0.43172458],\n",
              "       [ 0.0118375 ,  0.02393919],\n",
              "       [-0.27954719, -0.44210126],\n",
              "       [-0.18241896, -0.47122879],\n",
              "       [ 0.0118375 ,  0.28608694],\n",
              "       [ 0.10896574, -0.26733609],\n",
              "       [ 2.05153039, -1.19941699],\n",
              "       [-0.66806013, -0.0634434 ],\n",
              "       [ 1.95440216, -0.67512148],\n",
              "       [-0.76518836, -0.23820856],\n",
              "       [-0.08529073,  0.1404493 ],\n",
              "       [-0.57093189,  1.36380547],\n",
              "       [-1.34795776, -0.44210126],\n",
              "       [-0.57093189,  1.36380547],\n",
              "       [-1.05657306, -0.35471868],\n",
              "       [ 0.8859916 , -1.3159271 ],\n",
              "       [ 0.49747867,  1.21816783],\n",
              "       [ 0.78886337,  0.51910716],\n",
              "       [-1.93072715, -0.76250407],\n",
              "       [ 0.20609397, -0.3838462 ],\n",
              "       [-1.05657306, -1.46156474],\n",
              "       [ 0.8859916 , -1.05377935],\n",
              "       [-0.47380366, -0.7916316 ],\n",
              "       [-1.44508599, -1.22854452],\n",
              "       [ 0.40035043,  0.57736222],\n",
              "       [ 0.8859916 , -0.55861137],\n",
              "       [ 0.3032222 , -0.55861137],\n",
              "       [-0.66806013,  1.392933  ],\n",
              "       [ 0.10896574,  0.02393919],\n",
              "       [ 0.69173513,  1.77159086],\n",
              "       [-0.27954719, -0.3838462 ],\n",
              "       [-1.15370129, -1.60720238],\n",
              "       [ 0.3032222 ,  0.28608694],\n",
              "       [ 0.10896574, -0.82075912],\n",
              "       [ 0.20609397, -0.32559115],\n",
              "       [ 1.95440216, -0.93726924],\n",
              "       [ 1.76014569, -0.29646362],\n",
              "       [-0.08529073,  0.19870435],\n",
              "       [ 1.27450453,  2.20850378],\n",
              "       [-0.86231659,  2.26675884],\n",
              "       [ 0.3032222 , -0.73337654],\n",
              "       [-0.57093189,  2.3250139 ],\n",
              "       [ 0.20609397,  2.09199367],\n",
              "       [-0.18241896,  0.83950997],\n",
              "       [ 0.98311983,  0.75212739],\n",
              "       [-0.86231659, -0.67512148],\n",
              "       [ 0.40035043,  1.10165772],\n",
              "       [-1.15370129, -1.02465182],\n",
              "       [ 0.10896574, -0.32559115],\n",
              "       [ 1.468761  ,  0.98514761],\n",
              "       [-0.08529073,  2.20850378],\n",
              "       [ 0.98311983, -0.84988665],\n",
              "       [-0.66806013,  0.02393919],\n",
              "       [-0.47380366, -0.84988665],\n",
              "       [ 0.8859916 ,  2.15024873],\n",
              "       [ 0.8859916 , -0.67512148],\n",
              "       [ 0.8859916 ,  1.07253019],\n",
              "       [ 1.1773763 , -0.76250407],\n",
              "       [-0.08529073, -0.23820856],\n",
              "       [-0.37667543, -0.7916316 ],\n",
              "       [ 0.40035043,  0.28608694],\n",
              "       [ 1.37163276, -0.93726924],\n",
              "       [-1.15370129,  0.28608694],\n",
              "       [ 2.05153039,  0.51910716],\n",
              "       [ 0.40035043, -0.15082598],\n",
              "       [-0.66806013, -1.05377935],\n",
              "       [-1.63934245,  0.05306672],\n",
              "       [ 1.66301746, -0.90814171],\n",
              "       [ 0.69173513,  0.25695941],\n",
              "       [ 0.98311983,  2.06286614],\n",
              "       [ 0.40035043,  2.29588637],\n",
              "       [-0.08529073,  0.11132177],\n",
              "       [ 1.85727393,  1.50944311],\n",
              "       [ 0.20609397, -0.29646362],\n",
              "       [ 2.05153039,  1.74246334],\n",
              "       [-1.73647069, -0.61686643],\n",
              "       [-0.08529073,  0.05306672],\n",
              "       [ 0.98311983,  0.57736222],\n",
              "       [ 1.66301746,  1.5968257 ],\n",
              "       [ 0.40035043, -0.15082598],\n",
              "       [-0.76518836,  0.54823469],\n",
              "       [ 1.1773763 , -0.99552429],\n",
              "       [-0.08529073, -0.00518834],\n",
              "       [-0.76518836, -1.60720238],\n",
              "       [-1.54221422, -1.51981979],\n",
              "       [-0.08529073, -0.50035632],\n",
              "       [ 0.10896574,  1.50944311],\n",
              "       [-0.08529073, -0.3838462 ],\n",
              "       [-0.18241896, -0.20908104],\n",
              "       [-1.44508599, -0.12169845],\n",
              "       [-0.08529073,  0.6647448 ],\n",
              "       [-1.34795776, -0.44210126],\n",
              "       [-0.08529073,  2.15024873],\n",
              "       [-0.27954719, -0.26733609],\n",
              "       [-1.63934245, -1.57807485],\n",
              "       [-1.93072715, -0.0634434 ],\n",
              "       [-0.76518836,  0.48997963],\n",
              "       [ 0.0118375 , -0.15082598],\n",
              "       [ 0.69173513, -0.73337654],\n",
              "       [-1.05657306,  0.57736222],\n",
              "       [ 0.3032222 , -0.20908104],\n",
              "       [-1.63934245,  0.51910716],\n",
              "       [ 0.0118375 ,  1.24729536],\n",
              "       [ 0.0118375 , -0.5877389 ],\n",
              "       [-0.37667543,  1.30555042]])"
            ]
          },
          "metadata": {},
          "execution_count": 9
        }
      ]
    },
    {
      "cell_type": "code",
      "source": [
        "np.sqrt(X_train.shape[0])"
      ],
      "metadata": {
        "colab": {
          "base_uri": "https://localhost:8080/"
        },
        "id": "F_XyGQu_Kimb",
        "outputId": "64351f30-4969-457c-c707-c7aaf91df741"
      },
      "execution_count": 10,
      "outputs": [
        {
          "output_type": "execute_result",
          "data": {
            "text/plain": [
              "17.88854381999832"
            ]
          },
          "metadata": {},
          "execution_count": 10
        }
      ]
    },
    {
      "cell_type": "code",
      "source": [
        "k = 17"
      ],
      "metadata": {
        "id": "Q9gEf7b5KkTT"
      },
      "execution_count": 11,
      "outputs": []
    },
    {
      "cell_type": "code",
      "source": [
        "from sklearn.neighbors import KNeighborsClassifier\n",
        "knn = KNeighborsClassifier(n_neighbors=k)"
      ],
      "metadata": {
        "id": "b_vd78GBKlw7"
      },
      "execution_count": 12,
      "outputs": []
    },
    {
      "cell_type": "code",
      "source": [
        "knn.fit(X_train,y_train)"
      ],
      "metadata": {
        "colab": {
          "base_uri": "https://localhost:8080/"
        },
        "id": "rXk8DvZEiF9_",
        "outputId": "7bda8c36-0aec-45f9-9c93-7029dbfab044"
      },
      "execution_count": 13,
      "outputs": [
        {
          "output_type": "execute_result",
          "data": {
            "text/plain": [
              "KNeighborsClassifier(n_neighbors=17)"
            ]
          },
          "metadata": {},
          "execution_count": 13
        }
      ]
    },
    {
      "cell_type": "code",
      "source": [
        "y_pred = knn.predict(X_test)"
      ],
      "metadata": {
        "id": "FQmP90OEiK1m"
      },
      "execution_count": 14,
      "outputs": []
    },
    {
      "cell_type": "code",
      "source": [
        "y_pred.shape"
      ],
      "metadata": {
        "colab": {
          "base_uri": "https://localhost:8080/"
        },
        "id": "CgbaiBW2iOEW",
        "outputId": "fe67260d-697a-4be5-c6b7-6423b3643b16"
      },
      "execution_count": 15,
      "outputs": [
        {
          "output_type": "execute_result",
          "data": {
            "text/plain": [
              "(80,)"
            ]
          },
          "metadata": {},
          "execution_count": 15
        }
      ]
    },
    {
      "cell_type": "code",
      "source": [
        "y_test.shape"
      ],
      "metadata": {
        "colab": {
          "base_uri": "https://localhost:8080/"
        },
        "id": "wFzjSeuqiQHr",
        "outputId": "65b1bf48-6991-4444-e944-1c4d782282e8"
      },
      "execution_count": 16,
      "outputs": [
        {
          "output_type": "execute_result",
          "data": {
            "text/plain": [
              "(80,)"
            ]
          },
          "metadata": {},
          "execution_count": 16
        }
      ]
    },
    {
      "cell_type": "markdown",
      "source": [
        "Predicting the Test set results"
      ],
      "metadata": {
        "id": "1TyySUbJiSzp"
      }
    },
    {
      "cell_type": "code",
      "source": [
        "from sklearn.metrics import accuracy_score\n",
        "accuracy_score(y_test,y_pred)"
      ],
      "metadata": {
        "colab": {
          "base_uri": "https://localhost:8080/"
        },
        "id": "1wAj6xMwiVjO",
        "outputId": "a2b269db-b8f9-4c3b-bd1d-6db1904f8a35"
      },
      "execution_count": 17,
      "outputs": [
        {
          "output_type": "execute_result",
          "data": {
            "text/plain": [
              "0.35"
            ]
          },
          "metadata": {},
          "execution_count": 17
        }
      ]
    },
    {
      "cell_type": "code",
      "source": [
        "from sklearn.metrics import confusion_matrix\n",
        "confusion_matrix(y_test,y_pred)"
      ],
      "metadata": {
        "colab": {
          "base_uri": "https://localhost:8080/"
        },
        "id": "vsQvINORik01",
        "outputId": "d01a0bf3-7f95-4c71-de7c-0bade041a562"
      },
      "execution_count": 18,
      "outputs": [
        {
          "output_type": "execute_result",
          "data": {
            "text/plain": [
              "array([[ 0, 52],\n",
              "       [ 0, 28]])"
            ]
          },
          "metadata": {},
          "execution_count": 18
        }
      ]
    },
    {
      "cell_type": "code",
      "source": [
        "accuracy = []\n",
        "\n",
        "for i in range(1,26):\n",
        "    knn = KNeighborsClassifier(n_neighbors=i)\n",
        "    knn.fit(X_train,y_train)\n",
        "    accuracy.append(accuracy_score(y_test,knn.predict(X_test)))"
      ],
      "metadata": {
        "id": "X_OtmXUvisLV"
      },
      "execution_count": 19,
      "outputs": []
    }
  ]
}